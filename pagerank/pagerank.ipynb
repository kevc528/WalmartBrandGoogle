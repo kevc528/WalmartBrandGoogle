{
 "cells": [
  {
   "cell_type": "markdown",
   "metadata": {},
   "source": [
    "# Downloading Java From Command Line (Optional)"
   ]
  },
  {
   "cell_type": "code",
   "execution_count": null,
   "metadata": {},
   "outputs": [],
   "source": [
    "!sudo apt update\n",
    "!sudo apt install default-jre\n",
    "!sudo apt install default-jdk"
   ]
  },
  {
   "cell_type": "markdown",
   "metadata": {},
   "source": [
    "# Python Imports"
   ]
  },
  {
   "cell_type": "code",
   "execution_count": 1,
   "metadata": {},
   "outputs": [],
   "source": [
    "import pip\n",
    "import json\n",
    "try:\n",
    "    import pandas as pd\n",
    "except:\n",
    "    pip.main(['install','pandas'])\n",
    "    import pandas as pd\n",
    "\n",
    "try:\n",
    "    import psycopg2\n",
    "except:\n",
    "    pip.main(['install','psycopg2-binary'])\n",
    "    import psycopg2\n",
    "\n",
    "try:\n",
    "    import pyspark\n",
    "    from pyspark.sql import SparkSession\n",
    "    from pyspark.context import SparkContext\n",
    "except:\n",
    "    pip.main(['install','pyspark'])\n",
    "    import pyspark\n",
    "    from pyspark.sql import SparkSession\n",
    "    from pyspark.context import SparkContext"
   ]
  },
  {
   "cell_type": "markdown",
   "metadata": {},
   "source": [
    "# Gets AWS credentials"
   ]
  },
  {
   "cell_type": "code",
   "execution_count": 2,
   "metadata": {},
   "outputs": [],
   "source": [
    "credentials_file = open(\"./awscredentials.json\")\n",
    "aws_creds = json.load(credentials_file)"
   ]
  },
  {
   "cell_type": "markdown",
   "metadata": {},
   "source": [
    "# Reset Pagerank Results"
   ]
  },
  {
   "cell_type": "code",
   "execution_count": 3,
   "metadata": {},
   "outputs": [],
   "source": [
    "try:\n",
    "    conn = psycopg2.connect(host=aws_creds[\"ENDPOINT\"], port=aws_creds[\"PORT\"],\n",
    "                            database=aws_creds[\"DBNAME\"], user=aws_creds[\"USR\"],\n",
    "                            password=aws_creds[\"password\"])\n",
    "    cur = conn.cursor()\n",
    "    cur.execute(\"DROP TABLE IF EXISTS pagerank_results\")\n",
    "    cur.close()\n",
    "    conn.commit()\n",
    "    conn.close()\n",
    "except Exception as e:\n",
    "    print(\"Database connection failed due to {}\".format(e))"
   ]
  },
  {
   "cell_type": "markdown",
   "metadata": {},
   "source": [
    "# Define PageRank Queries"
   ]
  },
  {
   "cell_type": "code",
   "execution_count": 4,
   "metadata": {},
   "outputs": [],
   "source": [
    "# Queries\n",
    "\n",
    "cleaned_links_url_query = '''\n",
    "    WITH ids AS (\n",
    "        SELECT u1.id AS source, u2.id AS dest\n",
    "        FROM links_url l JOIN urls u1 ON l.source=u1.url JOIN urls u2 ON l.dest=u2.url\n",
    "    ), no_self_loops AS (\n",
    "        SELECT i.source, i.dest\n",
    "        FROM ids i\n",
    "        WHERE i.source <> i.dest\n",
    "    ), sinks AS (\n",
    "        SELECT n1.dest AS sink\n",
    "        FROM no_self_loops n1\n",
    "        WHERE n1.dest NOT IN ( \n",
    "            SELECT DISTINCT n2.source\n",
    "            FROM no_self_loops n2\n",
    "        )\n",
    "    ), back_edges AS (\n",
    "        SELECT n.dest AS source, n.source AS dest\n",
    "        FROM no_self_loops n JOIN sinks s ON n.dest = s.sink\n",
    "    )\n",
    "    SELECT b.source AS source, b.dest AS dest\n",
    "    FROM back_edges b\n",
    "        UNION\n",
    "    SELECT n.source AS source, n.dest AS dest\n",
    "    FROM no_self_loops n'''\n",
    "\n",
    "out_weights_query = '''\n",
    "    SELECT c.source AS source, 1.0 / COUNT(*) AS out_weight\n",
    "    FROM cleaned_links_url c\n",
    "    GROUP BY c.source'''\n",
    "\n",
    "initialize_ranks_query = '''\n",
    "    SELECT DISTINCT(source) AS node, 1 AS rank\n",
    "    FROM cleaned_links_url'''\n",
    "\n",
    "curr_iter_ranks_query = '''\n",
    "    SELECT l.dest AS node, SUM(o.out_weight * p.rank) * 0.85 + 0.15 AS rank\n",
    "    FROM cleaned_links_url l JOIN out_weights o ON l.source = o.source \n",
    "            JOIN prev_iter_ranks p ON l.source = p.node\n",
    "    GROUP BY l.dest'''\n",
    "\n",
    "max_diff_query = '''\n",
    "    SELECT MAX(ABS(p.rank - c.rank)) AS max_diff\n",
    "    FROM prev_iter_ranks p JOIN curr_iter_ranks c ON p.node = c.node'''\n",
    "\n",
    "id_normalization_query = '''\n",
    "    WITH min_rank AS (\n",
    "        SELECT MIN(rank) AS min_rank\n",
    "        FROM curr_iter_ranks\n",
    "    ), max_minus_min AS (\n",
    "        SELECT MAX(rank) - (SELECT * FROM min_rank) AS max_min_diff\n",
    "        FROM curr_iter_ranks\n",
    "    ) \n",
    "    SELECT c.node AS id, (c.rank - (SELECT min_rank FROM min_rank)) / ((SELECT max_min_diff FROM max_minus_min)) AS rank\n",
    "    FROM curr_iter_ranks c'''"
   ]
  },
  {
   "cell_type": "markdown",
   "metadata": {},
   "source": [
    "# Initialize Spark"
   ]
  },
  {
   "cell_type": "code",
   "execution_count": 5,
   "metadata": {},
   "outputs": [],
   "source": [
    "jdbcUrl = \"jdbc:postgresql://\" + aws_creds[\"ENDPOINT\"] + \":\" + aws_creds[\"PORT\"] + \"/\" + \\\n",
    "                    aws_creds[\"DBNAME\"] + \"?user=\" + aws_creds[\"USR\"] + \"&password=\" + aws_creds[\"password\"]\n",
    "\n",
    "spark = SparkSession.builder \\\n",
    "        .appName('PageRank') \\\n",
    "        .master('local[*]') \\\n",
    "        .config(\"spark.driver.extraClassPath\", \"postgresql-42.2.20.jar\") \\\n",
    "        .getOrCreate()"
   ]
  },
  {
   "cell_type": "markdown",
   "metadata": {},
   "source": [
    "# Actual PageRank"
   ]
  },
  {
   "cell_type": "code",
   "execution_count": 6,
   "metadata": {},
   "outputs": [],
   "source": [
    "# Load data from RDS\n",
    "cleaned_links_url_sdf = spark.read.format(\"jdbc\") \\\n",
    "        .option(\"url\", jdbcUrl) \\\n",
    "        .option(\"driver\", \"org.postgresql.Driver\") \\\n",
    "        .option(\"query\", cleaned_links_url_query) \\\n",
    "        .load()\n",
    "cleaned_links_url_sdf.createOrReplaceTempView(\"cleaned_links_url\")\n",
    "\n",
    "out_weights_sdf = spark.sql(out_weights_query)\n",
    "out_weights_sdf.createOrReplaceTempView(\"out_weights\")"
   ]
  },
  {
   "cell_type": "code",
   "execution_count": 7,
   "metadata": {},
   "outputs": [],
   "source": [
    "# Actual PageRank\n",
    "prev_iter_ranks_sdf = spark.sql(initialize_ranks_query)\n",
    "prev_iter_ranks_sdf.createOrReplaceTempView(\"prev_iter_ranks\")\n",
    "\n",
    "convergence = False\n",
    "i = 0\n",
    "while not convergence or i == 10000:\n",
    "    curr_iter_ranks_sdf = spark.sql(curr_iter_ranks_query)\n",
    "    curr_iter_ranks_sdf.createOrReplaceTempView(\"curr_iter_ranks\")\n",
    "\n",
    "    max_diff_df = spark.sql(max_diff_query).toPandas()\n",
    "    max_diff_result = pd.read_json(max_diff_df.to_json())\n",
    "    \n",
    "    if max_diff_result[\"max_diff\"][0] < 0.1 or i == 9999:\n",
    "        convergence = True\n",
    "        print(\"Convergence at iteration:\", i)\n",
    "        id_normalization_sdf = spark.sql(id_normalization_query)\n",
    "        id_normalization_sdf.write.format(\"jdbc\") \\\n",
    "                .option(\"url\", jdbcUrl) \\\n",
    "                .option(\"driver\", \"org.postgresql.Driver\") \\\n",
    "                .option(\"dbtable\", \"pagerank_results\") \\\n",
    "                .save()\n",
    "    else:\n",
    "        curr_iter_ranks_sdf.createOrReplaceTempView(\"prev_iter_ranks\")\n",
    "        i += 1"
   ]
  }
 ],
 "metadata": {
  "kernelspec": {
   "display_name": "Python 3",
   "language": "python",
   "name": "python3"
  },
  "language_info": {
   "codemirror_mode": {
    "name": "ipython",
    "version": 3
   },
   "file_extension": ".py",
   "mimetype": "text/x-python",
   "name": "python",
   "nbconvert_exporter": "python",
   "pygments_lexer": "ipython3",
   "version": "3.8.5"
  }
 },
 "nbformat": 4,
 "nbformat_minor": 4
}
